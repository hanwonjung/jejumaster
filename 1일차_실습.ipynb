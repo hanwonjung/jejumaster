{
  "nbformat": 4,
  "nbformat_minor": 0,
  "metadata": {
    "colab": {
      "provenance": [],
      "authorship_tag": "ABX9TyN6IiHILAVjRgTUZh20xBS9",
      "include_colab_link": true
    },
    "kernelspec": {
      "name": "python3",
      "display_name": "Python 3"
    },
    "language_info": {
      "name": "python"
    }
  },
  "cells": [
    {
      "cell_type": "markdown",
      "metadata": {
        "id": "view-in-github",
        "colab_type": "text"
      },
      "source": [
        "<a href=\"https://colab.research.google.com/github/hanwonjung/jejumaster/blob/main/1%EC%9D%BC%EC%B0%A8_%EC%8B%A4%EC%8A%B5.ipynb\" target=\"_parent\"><img src=\"https://colab.research.google.com/assets/colab-badge.svg\" alt=\"Open In Colab\"/></a>"
      ]
    },
    {
      "cell_type": "code",
      "execution_count": null,
      "metadata": {
        "colab": {
          "base_uri": "https://localhost:8080/"
        },
        "id": "ewQB-RdRz2uc",
        "outputId": "b1c3a293-10f9-4881-8648-d46b5cf53f1b"
      },
      "outputs": [
        {
          "output_type": "stream",
          "name": "stdout",
          "text": [
            "파이썬 버전:3.10.12 (main, Jun 11 2023, 05:26:28) [GCC 11.4.0]\n",
            "--------------------------------------------------\n",
            "파이썬 실행파일 경로 : &s\n"
          ]
        }
      ],
      "source": [
        "import sys\n",
        "\n",
        "print(f'파이썬 버전:{sys.version}')\n",
        "print('-'*50)\n",
        "print('파이썬 실행파일 경로 : &s'% syspath)"
      ]
    },
    {
      "cell_type": "code",
      "source": [],
      "metadata": {
        "id": "z1C_HJQQ1m6I"
      },
      "execution_count": null,
      "outputs": []
    },
    {
      "cell_type": "markdown",
      "source": [],
      "metadata": {
        "id": "FSErWsRS1nQO"
      }
    },
    {
      "cell_type": "code",
      "source": [
        "#1일차 파이썬 실습"
      ],
      "metadata": {
        "id": "AW0dWgTH0zOG"
      },
      "execution_count": null,
      "outputs": []
    },
    {
      "cell_type": "markdown",
      "source": [],
      "metadata": {
        "id": "0FL94uw51GcW"
      }
    },
    {
      "cell_type": "markdown",
      "source": [],
      "metadata": {
        "id": "jp0mWGf-1JxK"
      }
    },
    {
      "cell_type": "markdown",
      "source": [
        "#1일차 -파이썬 실습\n",
        "#코렙에서 파이썬 사용하기\n"
      ],
      "metadata": {
        "id": "byUVtKjT043y"
      }
    },
    {
      "cell_type": "code",
      "source": [],
      "metadata": {
        "id": "dUAtb3tw3aky"
      },
      "execution_count": null,
      "outputs": []
    },
    {
      "cell_type": "markdown",
      "source": [],
      "metadata": {
        "id": "kozXpAmY1M6W"
      }
    },
    {
      "cell_type": "markdown",
      "source": [],
      "metadata": {
        "id": "4_9zb3Op00F2"
      }
    }
  ]
}